{
 "cells": [
  {
   "cell_type": "markdown",
   "id": "0baef148",
   "metadata": {},
   "source": [
    "## Business case:\n",
    "    we here predict whether the customer is going to exit the particular product or from the bank itself nothing but churn analysis"
   ]
  },
  {
   "cell_type": "code",
   "execution_count": 1,
   "id": "9f7b06be",
   "metadata": {},
   "outputs": [
    {
     "name": "stdout",
     "output_type": "stream",
     "text": [
      "Collecting tensorflow-gpu\n",
      "  Downloading tensorflow-gpu-2.12.0.tar.gz (2.6 kB)\n",
      "  Preparing metadata (setup.py): started\n",
      "  Preparing metadata (setup.py): finished with status 'done'\n",
      "Collecting python_version>\"3.7\"\n",
      "  Downloading python_version-0.0.2-py2.py3-none-any.whl (3.4 kB)\n",
      "Building wheels for collected packages: tensorflow-gpu\n",
      "  Building wheel for tensorflow-gpu (setup.py): started\n",
      "  Building wheel for tensorflow-gpu (setup.py): finished with status 'error'\n",
      "  Running setup.py clean for tensorflow-gpu\n",
      "Failed to build tensorflow-gpu\n",
      "Installing collected packages: python_version, tensorflow-gpu\n",
      "  Running setup.py install for tensorflow-gpu: started\n",
      "  Running setup.py install for tensorflow-gpu: finished with status 'error'\n",
      "Note: you may need to restart the kernel to use updated packages.\n"
     ]
    },
    {
     "name": "stderr",
     "output_type": "stream",
     "text": [
      "  error: subprocess-exited-with-error\n",
      "  \n",
      "  python setup.py bdist_wheel did not run successfully.\n",
      "  exit code: 1\n",
      "  \n",
      "  [18 lines of output]\n",
      "  Traceback (most recent call last):\n",
      "    File \"<string>\", line 2, in <module>\n",
      "    File \"<pip-setuptools-caller>\", line 34, in <module>\n",
      "    File \"C:\\Users\\mskir\\AppData\\Local\\Temp\\pip-install-n02hoomv\\tensorflow-gpu_b25415b58822406983bc6ac4512515f3\\setup.py\", line 37, in <module>\n",
      "      raise Exception(TF_REMOVAL_WARNING)\n",
      "  Exception:\n",
      "  \n",
      "  =========================================================\n",
      "  The \"tensorflow-gpu\" package has been removed!\n",
      "  \n",
      "  Please install \"tensorflow\" instead.\n",
      "  \n",
      "  Other than the name, the two packages have been identical\n",
      "  since TensorFlow 2.1, or roughly since Sep 2019. For more\n",
      "  information, see: pypi.org/project/tensorflow-gpu\n",
      "  =========================================================\n",
      "  \n",
      "  \n",
      "  [end of output]\n",
      "  \n",
      "  note: This error originates from a subprocess, and is likely not a problem with pip.\n",
      "  ERROR: Failed building wheel for tensorflow-gpu\n",
      "  error: subprocess-exited-with-error\n",
      "  \n",
      "  Running setup.py install for tensorflow-gpu did not run successfully.\n",
      "  exit code: 1\n",
      "  \n",
      "  [18 lines of output]\n",
      "  Traceback (most recent call last):\n",
      "    File \"<string>\", line 2, in <module>\n",
      "    File \"<pip-setuptools-caller>\", line 34, in <module>\n",
      "    File \"C:\\Users\\mskir\\AppData\\Local\\Temp\\pip-install-n02hoomv\\tensorflow-gpu_b25415b58822406983bc6ac4512515f3\\setup.py\", line 37, in <module>\n",
      "      raise Exception(TF_REMOVAL_WARNING)\n",
      "  Exception:\n",
      "  \n",
      "  =========================================================\n",
      "  The \"tensorflow-gpu\" package has been removed!\n",
      "  \n",
      "  Please install \"tensorflow\" instead.\n",
      "  \n",
      "  Other than the name, the two packages have been identical\n",
      "  since TensorFlow 2.1, or roughly since Sep 2019. For more\n",
      "  information, see: pypi.org/project/tensorflow-gpu\n",
      "  =========================================================\n",
      "  \n",
      "  \n",
      "  [end of output]\n",
      "  \n",
      "  note: This error originates from a subprocess, and is likely not a problem with pip.\n",
      "error: legacy-install-failure\n",
      "\n",
      "Encountered error while trying to install package.\n",
      "\n",
      "tensorflow-gpu\n",
      "\n",
      "note: This is an issue with the package mentioned above, not pip.\n",
      "hint: See above for output from the failure.\n"
     ]
    }
   ],
   "source": [
    "pip install tensorflow-gpu"
   ]
  },
  {
   "cell_type": "code",
   "execution_count": 3,
   "id": "dd0a9c87",
   "metadata": {},
   "outputs": [
    {
     "name": "stdout",
     "output_type": "stream",
     "text": [
      "2.9.1\n"
     ]
    }
   ],
   "source": [
    "import tensorflow as tf\n",
    "print(tf.__version__)"
   ]
  },
  {
   "cell_type": "code",
   "execution_count": 4,
   "id": "63267397",
   "metadata": {},
   "outputs": [],
   "source": [
    "#import some basic libraries\n",
    "import numpy as np\n",
    "import matplotlib as ply\n",
    "import pandas as pd"
   ]
  },
  {
   "cell_type": "code",
   "execution_count": 6,
   "id": "3434a28c",
   "metadata": {},
   "outputs": [
    {
     "data": {
      "text/html": [
       "<div>\n",
       "<style scoped>\n",
       "    .dataframe tbody tr th:only-of-type {\n",
       "        vertical-align: middle;\n",
       "    }\n",
       "\n",
       "    .dataframe tbody tr th {\n",
       "        vertical-align: top;\n",
       "    }\n",
       "\n",
       "    .dataframe thead th {\n",
       "        text-align: right;\n",
       "    }\n",
       "</style>\n",
       "<table border=\"1\" class=\"dataframe\">\n",
       "  <thead>\n",
       "    <tr style=\"text-align: right;\">\n",
       "      <th></th>\n",
       "      <th>RowNumber</th>\n",
       "      <th>CustomerId</th>\n",
       "      <th>Surname</th>\n",
       "      <th>CreditScore</th>\n",
       "      <th>Geography</th>\n",
       "      <th>Gender</th>\n",
       "      <th>Age</th>\n",
       "      <th>Tenure</th>\n",
       "      <th>Balance</th>\n",
       "      <th>NumOfProducts</th>\n",
       "      <th>HasCrCard</th>\n",
       "      <th>IsActiveMember</th>\n",
       "      <th>EstimatedSalary</th>\n",
       "      <th>Exited</th>\n",
       "    </tr>\n",
       "  </thead>\n",
       "  <tbody>\n",
       "    <tr>\n",
       "      <th>0</th>\n",
       "      <td>1</td>\n",
       "      <td>15634602</td>\n",
       "      <td>Hargrave</td>\n",
       "      <td>619</td>\n",
       "      <td>France</td>\n",
       "      <td>Female</td>\n",
       "      <td>42</td>\n",
       "      <td>2</td>\n",
       "      <td>0.00</td>\n",
       "      <td>1</td>\n",
       "      <td>1</td>\n",
       "      <td>1</td>\n",
       "      <td>101348.88</td>\n",
       "      <td>1</td>\n",
       "    </tr>\n",
       "    <tr>\n",
       "      <th>1</th>\n",
       "      <td>2</td>\n",
       "      <td>15647311</td>\n",
       "      <td>Hill</td>\n",
       "      <td>608</td>\n",
       "      <td>Spain</td>\n",
       "      <td>Female</td>\n",
       "      <td>41</td>\n",
       "      <td>1</td>\n",
       "      <td>83807.86</td>\n",
       "      <td>1</td>\n",
       "      <td>0</td>\n",
       "      <td>1</td>\n",
       "      <td>112542.58</td>\n",
       "      <td>0</td>\n",
       "    </tr>\n",
       "    <tr>\n",
       "      <th>2</th>\n",
       "      <td>3</td>\n",
       "      <td>15619304</td>\n",
       "      <td>Onio</td>\n",
       "      <td>502</td>\n",
       "      <td>France</td>\n",
       "      <td>Female</td>\n",
       "      <td>42</td>\n",
       "      <td>8</td>\n",
       "      <td>159660.80</td>\n",
       "      <td>3</td>\n",
       "      <td>1</td>\n",
       "      <td>0</td>\n",
       "      <td>113931.57</td>\n",
       "      <td>1</td>\n",
       "    </tr>\n",
       "    <tr>\n",
       "      <th>3</th>\n",
       "      <td>4</td>\n",
       "      <td>15701354</td>\n",
       "      <td>Boni</td>\n",
       "      <td>699</td>\n",
       "      <td>France</td>\n",
       "      <td>Female</td>\n",
       "      <td>39</td>\n",
       "      <td>1</td>\n",
       "      <td>0.00</td>\n",
       "      <td>2</td>\n",
       "      <td>0</td>\n",
       "      <td>0</td>\n",
       "      <td>93826.63</td>\n",
       "      <td>0</td>\n",
       "    </tr>\n",
       "    <tr>\n",
       "      <th>4</th>\n",
       "      <td>5</td>\n",
       "      <td>15737888</td>\n",
       "      <td>Mitchell</td>\n",
       "      <td>850</td>\n",
       "      <td>Spain</td>\n",
       "      <td>Female</td>\n",
       "      <td>43</td>\n",
       "      <td>2</td>\n",
       "      <td>125510.82</td>\n",
       "      <td>1</td>\n",
       "      <td>1</td>\n",
       "      <td>1</td>\n",
       "      <td>79084.10</td>\n",
       "      <td>0</td>\n",
       "    </tr>\n",
       "  </tbody>\n",
       "</table>\n",
       "</div>"
      ],
      "text/plain": [
       "   RowNumber  CustomerId   Surname  CreditScore Geography  Gender  Age  \\\n",
       "0          1    15634602  Hargrave          619    France  Female   42   \n",
       "1          2    15647311      Hill          608     Spain  Female   41   \n",
       "2          3    15619304      Onio          502    France  Female   42   \n",
       "3          4    15701354      Boni          699    France  Female   39   \n",
       "4          5    15737888  Mitchell          850     Spain  Female   43   \n",
       "\n",
       "   Tenure    Balance  NumOfProducts  HasCrCard  IsActiveMember  \\\n",
       "0       2       0.00              1          1               1   \n",
       "1       1   83807.86              1          0               1   \n",
       "2       8  159660.80              3          1               0   \n",
       "3       1       0.00              2          0               0   \n",
       "4       2  125510.82              1          1               1   \n",
       "\n",
       "   EstimatedSalary  Exited  \n",
       "0        101348.88       1  \n",
       "1        112542.58       0  \n",
       "2        113931.57       1  \n",
       "3         93826.63       0  \n",
       "4         79084.10       0  "
      ]
     },
     "execution_count": 6,
     "metadata": {},
     "output_type": "execute_result"
    }
   ],
   "source": [
    "dataset = pd.read_csv('Churn_Modelling.csv')\n",
    "dataset.head()"
   ]
  },
  {
   "cell_type": "code",
   "execution_count": 7,
   "id": "ed25c8ac",
   "metadata": {},
   "outputs": [],
   "source": [
    "#we divide the datsets to dependent and independent features\n",
    "x= dataset.iloc[:,3:13] #here we are taking all row and removing starting columns\n",
    "y = dataset.iloc[:,13] #here we are taking only one that is output column"
   ]
  },
  {
   "cell_type": "code",
   "execution_count": 8,
   "id": "971ce074",
   "metadata": {},
   "outputs": [
    {
     "data": {
      "text/html": [
       "<div>\n",
       "<style scoped>\n",
       "    .dataframe tbody tr th:only-of-type {\n",
       "        vertical-align: middle;\n",
       "    }\n",
       "\n",
       "    .dataframe tbody tr th {\n",
       "        vertical-align: top;\n",
       "    }\n",
       "\n",
       "    .dataframe thead th {\n",
       "        text-align: right;\n",
       "    }\n",
       "</style>\n",
       "<table border=\"1\" class=\"dataframe\">\n",
       "  <thead>\n",
       "    <tr style=\"text-align: right;\">\n",
       "      <th></th>\n",
       "      <th>CreditScore</th>\n",
       "      <th>Geography</th>\n",
       "      <th>Gender</th>\n",
       "      <th>Age</th>\n",
       "      <th>Tenure</th>\n",
       "      <th>Balance</th>\n",
       "      <th>NumOfProducts</th>\n",
       "      <th>HasCrCard</th>\n",
       "      <th>IsActiveMember</th>\n",
       "      <th>EstimatedSalary</th>\n",
       "    </tr>\n",
       "  </thead>\n",
       "  <tbody>\n",
       "    <tr>\n",
       "      <th>0</th>\n",
       "      <td>619</td>\n",
       "      <td>France</td>\n",
       "      <td>Female</td>\n",
       "      <td>42</td>\n",
       "      <td>2</td>\n",
       "      <td>0.00</td>\n",
       "      <td>1</td>\n",
       "      <td>1</td>\n",
       "      <td>1</td>\n",
       "      <td>101348.88</td>\n",
       "    </tr>\n",
       "    <tr>\n",
       "      <th>1</th>\n",
       "      <td>608</td>\n",
       "      <td>Spain</td>\n",
       "      <td>Female</td>\n",
       "      <td>41</td>\n",
       "      <td>1</td>\n",
       "      <td>83807.86</td>\n",
       "      <td>1</td>\n",
       "      <td>0</td>\n",
       "      <td>1</td>\n",
       "      <td>112542.58</td>\n",
       "    </tr>\n",
       "    <tr>\n",
       "      <th>2</th>\n",
       "      <td>502</td>\n",
       "      <td>France</td>\n",
       "      <td>Female</td>\n",
       "      <td>42</td>\n",
       "      <td>8</td>\n",
       "      <td>159660.80</td>\n",
       "      <td>3</td>\n",
       "      <td>1</td>\n",
       "      <td>0</td>\n",
       "      <td>113931.57</td>\n",
       "    </tr>\n",
       "    <tr>\n",
       "      <th>3</th>\n",
       "      <td>699</td>\n",
       "      <td>France</td>\n",
       "      <td>Female</td>\n",
       "      <td>39</td>\n",
       "      <td>1</td>\n",
       "      <td>0.00</td>\n",
       "      <td>2</td>\n",
       "      <td>0</td>\n",
       "      <td>0</td>\n",
       "      <td>93826.63</td>\n",
       "    </tr>\n",
       "    <tr>\n",
       "      <th>4</th>\n",
       "      <td>850</td>\n",
       "      <td>Spain</td>\n",
       "      <td>Female</td>\n",
       "      <td>43</td>\n",
       "      <td>2</td>\n",
       "      <td>125510.82</td>\n",
       "      <td>1</td>\n",
       "      <td>1</td>\n",
       "      <td>1</td>\n",
       "      <td>79084.10</td>\n",
       "    </tr>\n",
       "  </tbody>\n",
       "</table>\n",
       "</div>"
      ],
      "text/plain": [
       "   CreditScore Geography  Gender  Age  Tenure    Balance  NumOfProducts  \\\n",
       "0          619    France  Female   42       2       0.00              1   \n",
       "1          608     Spain  Female   41       1   83807.86              1   \n",
       "2          502    France  Female   42       8  159660.80              3   \n",
       "3          699    France  Female   39       1       0.00              2   \n",
       "4          850     Spain  Female   43       2  125510.82              1   \n",
       "\n",
       "   HasCrCard  IsActiveMember  EstimatedSalary  \n",
       "0          1               1        101348.88  \n",
       "1          0               1        112542.58  \n",
       "2          1               0        113931.57  \n",
       "3          0               0         93826.63  \n",
       "4          1               1         79084.10  "
      ]
     },
     "execution_count": 8,
     "metadata": {},
     "output_type": "execute_result"
    }
   ],
   "source": [
    "x.head()"
   ]
  },
  {
   "cell_type": "code",
   "execution_count": 12,
   "id": "7094cff5",
   "metadata": {},
   "outputs": [
    {
     "data": {
      "text/html": [
       "<div>\n",
       "<style scoped>\n",
       "    .dataframe tbody tr th:only-of-type {\n",
       "        vertical-align: middle;\n",
       "    }\n",
       "\n",
       "    .dataframe tbody tr th {\n",
       "        vertical-align: top;\n",
       "    }\n",
       "\n",
       "    .dataframe thead th {\n",
       "        text-align: right;\n",
       "    }\n",
       "</style>\n",
       "<table border=\"1\" class=\"dataframe\">\n",
       "  <thead>\n",
       "    <tr style=\"text-align: right;\">\n",
       "      <th></th>\n",
       "      <th>Germany</th>\n",
       "      <th>Spain</th>\n",
       "    </tr>\n",
       "  </thead>\n",
       "  <tbody>\n",
       "    <tr>\n",
       "      <th>0</th>\n",
       "      <td>0</td>\n",
       "      <td>0</td>\n",
       "    </tr>\n",
       "    <tr>\n",
       "      <th>1</th>\n",
       "      <td>0</td>\n",
       "      <td>1</td>\n",
       "    </tr>\n",
       "    <tr>\n",
       "      <th>2</th>\n",
       "      <td>0</td>\n",
       "      <td>0</td>\n",
       "    </tr>\n",
       "    <tr>\n",
       "      <th>3</th>\n",
       "      <td>0</td>\n",
       "      <td>0</td>\n",
       "    </tr>\n",
       "    <tr>\n",
       "      <th>4</th>\n",
       "      <td>0</td>\n",
       "      <td>1</td>\n",
       "    </tr>\n",
       "    <tr>\n",
       "      <th>...</th>\n",
       "      <td>...</td>\n",
       "      <td>...</td>\n",
       "    </tr>\n",
       "    <tr>\n",
       "      <th>9995</th>\n",
       "      <td>0</td>\n",
       "      <td>0</td>\n",
       "    </tr>\n",
       "    <tr>\n",
       "      <th>9996</th>\n",
       "      <td>0</td>\n",
       "      <td>0</td>\n",
       "    </tr>\n",
       "    <tr>\n",
       "      <th>9997</th>\n",
       "      <td>0</td>\n",
       "      <td>0</td>\n",
       "    </tr>\n",
       "    <tr>\n",
       "      <th>9998</th>\n",
       "      <td>1</td>\n",
       "      <td>0</td>\n",
       "    </tr>\n",
       "    <tr>\n",
       "      <th>9999</th>\n",
       "      <td>0</td>\n",
       "      <td>0</td>\n",
       "    </tr>\n",
       "  </tbody>\n",
       "</table>\n",
       "<p>10000 rows × 2 columns</p>\n",
       "</div>"
      ],
      "text/plain": [
       "      Germany  Spain\n",
       "0           0      0\n",
       "1           0      1\n",
       "2           0      0\n",
       "3           0      0\n",
       "4           0      1\n",
       "...       ...    ...\n",
       "9995        0      0\n",
       "9996        0      0\n",
       "9997        0      0\n",
       "9998        1      0\n",
       "9999        0      0\n",
       "\n",
       "[10000 rows x 2 columns]"
      ]
     },
     "execution_count": 12,
     "metadata": {},
     "output_type": "execute_result"
    }
   ],
   "source": [
    "#we need to remove the catregorical valyes\n",
    "#so we use feature engineering\n",
    "geography= pd.get_dummies(x['Geography'], drop_first=True)\n",
    "geography"
   ]
  },
  {
   "cell_type": "code",
   "execution_count": 13,
   "id": "32da0845",
   "metadata": {},
   "outputs": [
    {
     "data": {
      "text/html": [
       "<div>\n",
       "<style scoped>\n",
       "    .dataframe tbody tr th:only-of-type {\n",
       "        vertical-align: middle;\n",
       "    }\n",
       "\n",
       "    .dataframe tbody tr th {\n",
       "        vertical-align: top;\n",
       "    }\n",
       "\n",
       "    .dataframe thead th {\n",
       "        text-align: right;\n",
       "    }\n",
       "</style>\n",
       "<table border=\"1\" class=\"dataframe\">\n",
       "  <thead>\n",
       "    <tr style=\"text-align: right;\">\n",
       "      <th></th>\n",
       "      <th>Male</th>\n",
       "    </tr>\n",
       "  </thead>\n",
       "  <tbody>\n",
       "    <tr>\n",
       "      <th>0</th>\n",
       "      <td>0</td>\n",
       "    </tr>\n",
       "    <tr>\n",
       "      <th>1</th>\n",
       "      <td>0</td>\n",
       "    </tr>\n",
       "    <tr>\n",
       "      <th>2</th>\n",
       "      <td>0</td>\n",
       "    </tr>\n",
       "    <tr>\n",
       "      <th>3</th>\n",
       "      <td>0</td>\n",
       "    </tr>\n",
       "    <tr>\n",
       "      <th>4</th>\n",
       "      <td>0</td>\n",
       "    </tr>\n",
       "    <tr>\n",
       "      <th>...</th>\n",
       "      <td>...</td>\n",
       "    </tr>\n",
       "    <tr>\n",
       "      <th>9995</th>\n",
       "      <td>1</td>\n",
       "    </tr>\n",
       "    <tr>\n",
       "      <th>9996</th>\n",
       "      <td>1</td>\n",
       "    </tr>\n",
       "    <tr>\n",
       "      <th>9997</th>\n",
       "      <td>0</td>\n",
       "    </tr>\n",
       "    <tr>\n",
       "      <th>9998</th>\n",
       "      <td>1</td>\n",
       "    </tr>\n",
       "    <tr>\n",
       "      <th>9999</th>\n",
       "      <td>0</td>\n",
       "    </tr>\n",
       "  </tbody>\n",
       "</table>\n",
       "<p>10000 rows × 1 columns</p>\n",
       "</div>"
      ],
      "text/plain": [
       "      Male\n",
       "0        0\n",
       "1        0\n",
       "2        0\n",
       "3        0\n",
       "4        0\n",
       "...    ...\n",
       "9995     1\n",
       "9996     1\n",
       "9997     0\n",
       "9998     1\n",
       "9999     0\n",
       "\n",
       "[10000 rows x 1 columns]"
      ]
     },
     "execution_count": 13,
     "metadata": {},
     "output_type": "execute_result"
    }
   ],
   "source": [
    "gender= pd.get_dummies(x['Gender'], drop_first=True)\n",
    "gender"
   ]
  },
  {
   "cell_type": "code",
   "execution_count": 17,
   "id": "fb6f4291",
   "metadata": {},
   "outputs": [],
   "source": [
    "#cancatinate variables with dataframe\n",
    "#so we drop gender and geograpy\n",
    "x = x.drop(['Geography','Gender'], axis = 1) #we write axis beacuse we are droppingthe columns not rows"
   ]
  },
  {
   "cell_type": "code",
   "execution_count": 18,
   "id": "d24b2a4a",
   "metadata": {},
   "outputs": [
    {
     "data": {
      "text/html": [
       "<div>\n",
       "<style scoped>\n",
       "    .dataframe tbody tr th:only-of-type {\n",
       "        vertical-align: middle;\n",
       "    }\n",
       "\n",
       "    .dataframe tbody tr th {\n",
       "        vertical-align: top;\n",
       "    }\n",
       "\n",
       "    .dataframe thead th {\n",
       "        text-align: right;\n",
       "    }\n",
       "</style>\n",
       "<table border=\"1\" class=\"dataframe\">\n",
       "  <thead>\n",
       "    <tr style=\"text-align: right;\">\n",
       "      <th></th>\n",
       "      <th>CreditScore</th>\n",
       "      <th>Age</th>\n",
       "      <th>Tenure</th>\n",
       "      <th>Balance</th>\n",
       "      <th>NumOfProducts</th>\n",
       "      <th>HasCrCard</th>\n",
       "      <th>IsActiveMember</th>\n",
       "      <th>EstimatedSalary</th>\n",
       "    </tr>\n",
       "  </thead>\n",
       "  <tbody>\n",
       "    <tr>\n",
       "      <th>0</th>\n",
       "      <td>619</td>\n",
       "      <td>42</td>\n",
       "      <td>2</td>\n",
       "      <td>0.00</td>\n",
       "      <td>1</td>\n",
       "      <td>1</td>\n",
       "      <td>1</td>\n",
       "      <td>101348.88</td>\n",
       "    </tr>\n",
       "    <tr>\n",
       "      <th>1</th>\n",
       "      <td>608</td>\n",
       "      <td>41</td>\n",
       "      <td>1</td>\n",
       "      <td>83807.86</td>\n",
       "      <td>1</td>\n",
       "      <td>0</td>\n",
       "      <td>1</td>\n",
       "      <td>112542.58</td>\n",
       "    </tr>\n",
       "    <tr>\n",
       "      <th>2</th>\n",
       "      <td>502</td>\n",
       "      <td>42</td>\n",
       "      <td>8</td>\n",
       "      <td>159660.80</td>\n",
       "      <td>3</td>\n",
       "      <td>1</td>\n",
       "      <td>0</td>\n",
       "      <td>113931.57</td>\n",
       "    </tr>\n",
       "    <tr>\n",
       "      <th>3</th>\n",
       "      <td>699</td>\n",
       "      <td>39</td>\n",
       "      <td>1</td>\n",
       "      <td>0.00</td>\n",
       "      <td>2</td>\n",
       "      <td>0</td>\n",
       "      <td>0</td>\n",
       "      <td>93826.63</td>\n",
       "    </tr>\n",
       "    <tr>\n",
       "      <th>4</th>\n",
       "      <td>850</td>\n",
       "      <td>43</td>\n",
       "      <td>2</td>\n",
       "      <td>125510.82</td>\n",
       "      <td>1</td>\n",
       "      <td>1</td>\n",
       "      <td>1</td>\n",
       "      <td>79084.10</td>\n",
       "    </tr>\n",
       "  </tbody>\n",
       "</table>\n",
       "</div>"
      ],
      "text/plain": [
       "   CreditScore  Age  Tenure    Balance  NumOfProducts  HasCrCard  \\\n",
       "0          619   42       2       0.00              1          1   \n",
       "1          608   41       1   83807.86              1          0   \n",
       "2          502   42       8  159660.80              3          1   \n",
       "3          699   39       1       0.00              2          0   \n",
       "4          850   43       2  125510.82              1          1   \n",
       "\n",
       "   IsActiveMember  EstimatedSalary  \n",
       "0               1        101348.88  \n",
       "1               1        112542.58  \n",
       "2               0        113931.57  \n",
       "3               0         93826.63  \n",
       "4               1         79084.10  "
      ]
     },
     "execution_count": 18,
     "metadata": {},
     "output_type": "execute_result"
    }
   ],
   "source": [
    "x.head()"
   ]
  },
  {
   "cell_type": "code",
   "execution_count": 21,
   "id": "a972c91a",
   "metadata": {},
   "outputs": [],
   "source": [
    "x = pd.concat([x,geography,gender], axis=1)"
   ]
  },
  {
   "cell_type": "code",
   "execution_count": 24,
   "id": "7584d6ab",
   "metadata": {},
   "outputs": [],
   "source": [
    "#bow we do train test split\n",
    "#Splitting the dataset into training and test set\n",
    "from sklearn.model_selection import train_test_split\n",
    "\n",
    "x_train, x_test, y_train, y_test = train_test_split(x,y,test_size=0.2, random_state=0)"
   ]
  },
  {
   "cell_type": "code",
   "execution_count": 25,
   "id": "2fcaffe2",
   "metadata": {},
   "outputs": [],
   "source": [
    "#feature scaling \n",
    "from sklearn.preprocessing import StandardScaler #minmaxscaler canbe used with cnn\n",
    "sc= StandardScaler()\n",
    "x_train = sc.fit_transform(x_train)\n",
    "x_test = sc.transform(x_test)"
   ]
  },
  {
   "cell_type": "code",
   "execution_count": 27,
   "id": "d4f4985a",
   "metadata": {},
   "outputs": [
    {
     "data": {
      "text/plain": [
       "array([[ 0.16958176, -0.46460796,  0.00666099, ..., -0.5698444 ,\n",
       "         1.74309049, -1.09168714],\n",
       "       [-2.30455945,  0.30102557, -1.37744033, ...,  1.75486502,\n",
       "        -0.57369368,  0.91601335],\n",
       "       [-1.19119591, -0.94312892, -1.031415  , ..., -0.5698444 ,\n",
       "        -0.57369368, -1.09168714],\n",
       "       ...,\n",
       "       [ 0.9015152 , -0.36890377,  0.00666099, ..., -0.5698444 ,\n",
       "        -0.57369368,  0.91601335],\n",
       "       [-0.62420521, -0.08179119,  1.39076231, ..., -0.5698444 ,\n",
       "         1.74309049, -1.09168714],\n",
       "       [-0.28401079,  0.87525072, -1.37744033, ...,  1.75486502,\n",
       "        -0.57369368, -1.09168714]])"
      ]
     },
     "execution_count": 27,
     "metadata": {},
     "output_type": "execute_result"
    }
   ],
   "source": [
    "x_train"
   ]
  },
  {
   "cell_type": "code",
   "execution_count": 28,
   "id": "cb2cc63a",
   "metadata": {},
   "outputs": [
    {
     "data": {
      "text/plain": [
       "array([[-0.55204276, -0.36890377,  1.04473698, ...,  1.75486502,\n",
       "        -0.57369368, -1.09168714],\n",
       "       [-1.31490297,  0.10961719, -1.031415  , ..., -0.5698444 ,\n",
       "        -0.57369368, -1.09168714],\n",
       "       [ 0.57162971,  0.30102557,  1.04473698, ..., -0.5698444 ,\n",
       "         1.74309049, -1.09168714],\n",
       "       ...,\n",
       "       [-0.74791227, -0.27319958, -1.37744033, ..., -0.5698444 ,\n",
       "         1.74309049,  0.91601335],\n",
       "       [-0.00566991, -0.46460796, -0.33936434, ...,  1.75486502,\n",
       "        -0.57369368,  0.91601335],\n",
       "       [-0.79945688, -0.84742473,  1.04473698, ...,  1.75486502,\n",
       "        -0.57369368,  0.91601335]])"
      ]
     },
     "execution_count": 28,
     "metadata": {},
     "output_type": "execute_result"
    }
   ],
   "source": [
    "x_test"
   ]
  },
  {
   "cell_type": "code",
   "execution_count": 30,
   "id": "a3f342ea",
   "metadata": {},
   "outputs": [
    {
     "data": {
      "text/plain": [
       "(8000, 11)"
      ]
     },
     "execution_count": 30,
     "metadata": {},
     "output_type": "execute_result"
    }
   ],
   "source": [
    "x_train.shape"
   ]
  },
  {
   "cell_type": "markdown",
   "id": "3d0685f4",
   "metadata": {},
   "source": [
    "### Part2 : Lets create the ANN"
   ]
  },
  {
   "cell_type": "code",
   "execution_count": 32,
   "id": "f90e57f6",
   "metadata": {},
   "outputs": [],
   "source": [
    "from tensorflow.keras.models import Sequential\n",
    "from tensorflow.keras.layers import Dense\n",
    "from tensorflow.keras.layers import LeakyReLU, PReLU, ELU, ReLU\n",
    "from tensorflow.keras.layers import Dropout"
   ]
  },
  {
   "cell_type": "code",
   "execution_count": 33,
   "id": "bc67b3da",
   "metadata": {},
   "outputs": [],
   "source": [
    " #lets initialise teh ANN\n",
    "classifier = Sequential()"
   ]
  },
  {
   "cell_type": "code",
   "execution_count": 35,
   "id": "25795b35",
   "metadata": {},
   "outputs": [],
   "source": [
    "#adding the input layer\n",
    "classifier.add(Dense(units=11, activation='relu')) #we are taking 11 units as we have 11 columns"
   ]
  },
  {
   "cell_type": "code",
   "execution_count": 36,
   "id": "2bb362dc",
   "metadata": {},
   "outputs": [],
   "source": [
    "#adding the first hiddden layer \n",
    "classifier.add(Dense(units=7, activation='relu')) #we are taking 7 randomly but there are techniques to select the sie of hidden layers"
   ]
  },
  {
   "cell_type": "code",
   "execution_count": 38,
   "id": "cfb0d933",
   "metadata": {},
   "outputs": [],
   "source": [
    "#adding the second hidden layer\n",
    "classifier.add(Dense(units=6, activation='relu'))"
   ]
  },
  {
   "cell_type": "code",
   "execution_count": 39,
   "id": "6d90bb83",
   "metadata": {},
   "outputs": [],
   "source": [
    "#adding the output layer \n",
    "classifier.add(Dense(1,activation='sigmoid')) #sigmoid because we have binary classification"
   ]
  },
  {
   "cell_type": "code",
   "execution_count": 40,
   "id": "2d7f7fa9",
   "metadata": {},
   "outputs": [],
   "source": [
    "#train neural network\n",
    "classifier.compile(optimizer='adam', loss='binary_crossentropy', metrics = ['accuracy'])\n",
    "#there is no learning rate becasue adam use defaut laerning rate or we can do as below"
   ]
  },
  {
   "cell_type": "code",
   "execution_count": 41,
   "id": "14ebcb6d",
   "metadata": {},
   "outputs": [],
   "source": [
    "\n",
    "import tensorflow\n",
    "opt = tensorflow.keras.optimizers.Adam(learning_rate=0.01)\n"
   ]
  },
  {
   "cell_type": "code",
   "execution_count": 43,
   "id": "0b904742",
   "metadata": {
    "scrolled": true
   },
   "outputs": [
    {
     "name": "stdout",
     "output_type": "stream",
     "text": [
      "Epoch 1/1000\n",
      "536/536 [==============================] - 6s 8ms/step - loss: 0.5146 - accuracy: 0.7796 - val_loss: 0.4435 - val_accuracy: 0.8099\n",
      "Epoch 2/1000\n",
      "536/536 [==============================] - 3s 6ms/step - loss: 0.4273 - accuracy: 0.8127 - val_loss: 0.4259 - val_accuracy: 0.8217\n",
      "Epoch 3/1000\n",
      "536/536 [==============================] - 4s 7ms/step - loss: 0.4119 - accuracy: 0.8214 - val_loss: 0.4160 - val_accuracy: 0.8217\n",
      "Epoch 4/1000\n",
      "536/536 [==============================] - 4s 7ms/step - loss: 0.3994 - accuracy: 0.8308 - val_loss: 0.4054 - val_accuracy: 0.8300\n",
      "Epoch 5/1000\n",
      "536/536 [==============================] - 4s 7ms/step - loss: 0.3878 - accuracy: 0.8421 - val_loss: 0.3972 - val_accuracy: 0.8270\n",
      "Epoch 6/1000\n",
      "536/536 [==============================] - 4s 7ms/step - loss: 0.3756 - accuracy: 0.8436 - val_loss: 0.3844 - val_accuracy: 0.8360\n",
      "Epoch 7/1000\n",
      "536/536 [==============================] - 4s 7ms/step - loss: 0.3647 - accuracy: 0.8522 - val_loss: 0.3719 - val_accuracy: 0.8470\n",
      "Epoch 8/1000\n",
      "536/536 [==============================] - 5s 9ms/step - loss: 0.3538 - accuracy: 0.8535 - val_loss: 0.3691 - val_accuracy: 0.8466\n",
      "Epoch 9/1000\n",
      "536/536 [==============================] - 4s 7ms/step - loss: 0.3473 - accuracy: 0.8546 - val_loss: 0.3626 - val_accuracy: 0.8542\n",
      "Epoch 10/1000\n",
      "536/536 [==============================] - 5s 9ms/step - loss: 0.3432 - accuracy: 0.8599 - val_loss: 0.3656 - val_accuracy: 0.8497\n",
      "Epoch 11/1000\n",
      "536/536 [==============================] - 5s 9ms/step - loss: 0.3406 - accuracy: 0.8580 - val_loss: 0.3582 - val_accuracy: 0.8538\n",
      "Epoch 12/1000\n",
      "536/536 [==============================] - 5s 9ms/step - loss: 0.3374 - accuracy: 0.8614 - val_loss: 0.3595 - val_accuracy: 0.8538\n",
      "Epoch 13/1000\n",
      "536/536 [==============================] - 5s 9ms/step - loss: 0.3356 - accuracy: 0.8578 - val_loss: 0.3613 - val_accuracy: 0.8550\n",
      "Epoch 14/1000\n",
      "536/536 [==============================] - 4s 8ms/step - loss: 0.3344 - accuracy: 0.8597 - val_loss: 0.3570 - val_accuracy: 0.8576\n",
      "Epoch 15/1000\n",
      "536/536 [==============================] - 4s 7ms/step - loss: 0.3325 - accuracy: 0.8610 - val_loss: 0.3591 - val_accuracy: 0.8588\n",
      "Epoch 16/1000\n",
      "536/536 [==============================] - 5s 10ms/step - loss: 0.3314 - accuracy: 0.8630 - val_loss: 0.3616 - val_accuracy: 0.8565\n",
      "Epoch 17/1000\n",
      "536/536 [==============================] - 4s 7ms/step - loss: 0.3302 - accuracy: 0.8642 - val_loss: 0.3589 - val_accuracy: 0.8584\n",
      "Epoch 18/1000\n",
      "536/536 [==============================] - 4s 8ms/step - loss: 0.3301 - accuracy: 0.8612 - val_loss: 0.3634 - val_accuracy: 0.8523\n",
      "Epoch 19/1000\n",
      "536/536 [==============================] - 5s 9ms/step - loss: 0.3285 - accuracy: 0.8625 - val_loss: 0.3593 - val_accuracy: 0.8565\n",
      "Epoch 20/1000\n",
      "536/536 [==============================] - 4s 8ms/step - loss: 0.3281 - accuracy: 0.8634 - val_loss: 0.3574 - val_accuracy: 0.8561\n",
      "Epoch 21/1000\n",
      "536/536 [==============================] - 5s 9ms/step - loss: 0.3270 - accuracy: 0.8627 - val_loss: 0.3574 - val_accuracy: 0.8584\n",
      "Epoch 22/1000\n",
      "536/536 [==============================] - 6s 10ms/step - loss: 0.3268 - accuracy: 0.8632 - val_loss: 0.3610 - val_accuracy: 0.8554\n",
      "Epoch 23/1000\n",
      "536/536 [==============================] - 5s 9ms/step - loss: 0.3257 - accuracy: 0.8623 - val_loss: 0.3583 - val_accuracy: 0.8569\n",
      "Epoch 24/1000\n",
      "536/536 [==============================] - 5s 9ms/step - loss: 0.3256 - accuracy: 0.8612 - val_loss: 0.3612 - val_accuracy: 0.8557\n",
      "Epoch 25/1000\n",
      "536/536 [==============================] - 6s 11ms/step - loss: 0.3253 - accuracy: 0.8645 - val_loss: 0.3578 - val_accuracy: 0.8565\n",
      "Epoch 26/1000\n",
      "536/536 [==============================] - 5s 9ms/step - loss: 0.3251 - accuracy: 0.8636 - val_loss: 0.3580 - val_accuracy: 0.8607\n",
      "Epoch 27/1000\n",
      "536/536 [==============================] - 5s 8ms/step - loss: 0.3237 - accuracy: 0.8643 - val_loss: 0.3597 - val_accuracy: 0.8588\n",
      "Epoch 28/1000\n",
      "536/536 [==============================] - 4s 7ms/step - loss: 0.3241 - accuracy: 0.8647 - val_loss: 0.3561 - val_accuracy: 0.8580\n",
      "Epoch 29/1000\n",
      "536/536 [==============================] - 5s 9ms/step - loss: 0.3227 - accuracy: 0.8656 - val_loss: 0.3589 - val_accuracy: 0.8554\n",
      "Epoch 30/1000\n",
      "536/536 [==============================] - 4s 8ms/step - loss: 0.3226 - accuracy: 0.8656 - val_loss: 0.3613 - val_accuracy: 0.8523\n",
      "Epoch 31/1000\n",
      "536/536 [==============================] - 4s 8ms/step - loss: 0.3226 - accuracy: 0.8636 - val_loss: 0.3571 - val_accuracy: 0.8607\n",
      "Epoch 32/1000\n",
      "536/536 [==============================] - 5s 9ms/step - loss: 0.3217 - accuracy: 0.8640 - val_loss: 0.3569 - val_accuracy: 0.8607\n",
      "Epoch 33/1000\n",
      "536/536 [==============================] - 5s 10ms/step - loss: 0.3221 - accuracy: 0.8655 - val_loss: 0.3608 - val_accuracy: 0.8550\n",
      "Epoch 34/1000\n",
      "536/536 [==============================] - 4s 8ms/step - loss: 0.3224 - accuracy: 0.8664 - val_loss: 0.3575 - val_accuracy: 0.8573\n",
      "Epoch 35/1000\n",
      "536/536 [==============================] - 5s 9ms/step - loss: 0.3214 - accuracy: 0.8634 - val_loss: 0.3589 - val_accuracy: 0.8569\n",
      "Epoch 36/1000\n",
      "536/536 [==============================] - 5s 9ms/step - loss: 0.3215 - accuracy: 0.8647 - val_loss: 0.3571 - val_accuracy: 0.8576\n",
      "Epoch 37/1000\n",
      "536/536 [==============================] - 4s 8ms/step - loss: 0.3210 - accuracy: 0.8638 - val_loss: 0.3583 - val_accuracy: 0.8603\n",
      "Epoch 38/1000\n",
      "536/536 [==============================] - 4s 8ms/step - loss: 0.3200 - accuracy: 0.8649 - val_loss: 0.3585 - val_accuracy: 0.8588\n",
      "Epoch 39/1000\n",
      "536/536 [==============================] - 5s 10ms/step - loss: 0.3205 - accuracy: 0.8664 - val_loss: 0.3584 - val_accuracy: 0.8584\n",
      "Epoch 40/1000\n",
      "168/536 [========>.....................] - ETA: 2s - loss: 0.3088 - accuracy: 0.8696"
     ]
    },
    {
     "ename": "KeyboardInterrupt",
     "evalue": "",
     "output_type": "error",
     "traceback": [
      "\u001b[1;31m---------------------------------------------------------------------------\u001b[0m",
      "\u001b[1;31mKeyboardInterrupt\u001b[0m                         Traceback (most recent call last)",
      "Input \u001b[1;32mIn [43]\u001b[0m, in \u001b[0;36m<cell line: 1>\u001b[1;34m()\u001b[0m\n\u001b[1;32m----> 1\u001b[0m model_history \u001b[38;5;241m=\u001b[39m \u001b[43mclassifier\u001b[49m\u001b[38;5;241;43m.\u001b[39;49m\u001b[43mfit\u001b[49m\u001b[43m(\u001b[49m\u001b[43mx_train\u001b[49m\u001b[43m,\u001b[49m\u001b[43my_train\u001b[49m\u001b[43m,\u001b[49m\u001b[43mvalidation_split\u001b[49m\u001b[38;5;241;43m=\u001b[39;49m\u001b[38;5;241;43m0.33\u001b[39;49m\u001b[43m,\u001b[49m\u001b[43m \u001b[49m\u001b[43mbatch_size\u001b[49m\u001b[38;5;241;43m=\u001b[39;49m\u001b[38;5;241;43m10\u001b[39;49m\u001b[43m,\u001b[49m\u001b[43m \u001b[49m\u001b[43mepochs\u001b[49m\u001b[38;5;241;43m=\u001b[39;49m\u001b[38;5;241;43m1000\u001b[39;49m\u001b[43m)\u001b[49m\n",
      "File \u001b[1;32m~\\.ipython\\extensions\\lib\\site-packages\\keras\\utils\\traceback_utils.py:64\u001b[0m, in \u001b[0;36mfilter_traceback.<locals>.error_handler\u001b[1;34m(*args, **kwargs)\u001b[0m\n\u001b[0;32m     62\u001b[0m filtered_tb \u001b[38;5;241m=\u001b[39m \u001b[38;5;28;01mNone\u001b[39;00m\n\u001b[0;32m     63\u001b[0m \u001b[38;5;28;01mtry\u001b[39;00m:\n\u001b[1;32m---> 64\u001b[0m   \u001b[38;5;28;01mreturn\u001b[39;00m fn(\u001b[38;5;241m*\u001b[39margs, \u001b[38;5;241m*\u001b[39m\u001b[38;5;241m*\u001b[39mkwargs)\n\u001b[0;32m     65\u001b[0m \u001b[38;5;28;01mexcept\u001b[39;00m \u001b[38;5;167;01mException\u001b[39;00m \u001b[38;5;28;01mas\u001b[39;00m e:  \u001b[38;5;66;03m# pylint: disable=broad-except\u001b[39;00m\n\u001b[0;32m     66\u001b[0m   filtered_tb \u001b[38;5;241m=\u001b[39m _process_traceback_frames(e\u001b[38;5;241m.\u001b[39m__traceback__)\n",
      "File \u001b[1;32m~\\.ipython\\extensions\\lib\\site-packages\\keras\\engine\\training.py:1414\u001b[0m, in \u001b[0;36mModel.fit\u001b[1;34m(self, x, y, batch_size, epochs, verbose, callbacks, validation_split, validation_data, shuffle, class_weight, sample_weight, initial_epoch, steps_per_epoch, validation_steps, validation_batch_size, validation_freq, max_queue_size, workers, use_multiprocessing)\u001b[0m\n\u001b[0;32m   1412\u001b[0m logs \u001b[38;5;241m=\u001b[39m tmp_logs  \u001b[38;5;66;03m# No error, now safe to assign to logs.\u001b[39;00m\n\u001b[0;32m   1413\u001b[0m end_step \u001b[38;5;241m=\u001b[39m step \u001b[38;5;241m+\u001b[39m data_handler\u001b[38;5;241m.\u001b[39mstep_increment\n\u001b[1;32m-> 1414\u001b[0m \u001b[43mcallbacks\u001b[49m\u001b[38;5;241;43m.\u001b[39;49m\u001b[43mon_train_batch_end\u001b[49m\u001b[43m(\u001b[49m\u001b[43mend_step\u001b[49m\u001b[43m,\u001b[49m\u001b[43m \u001b[49m\u001b[43mlogs\u001b[49m\u001b[43m)\u001b[49m\n\u001b[0;32m   1415\u001b[0m \u001b[38;5;28;01mif\u001b[39;00m \u001b[38;5;28mself\u001b[39m\u001b[38;5;241m.\u001b[39mstop_training:\n\u001b[0;32m   1416\u001b[0m   \u001b[38;5;28;01mbreak\u001b[39;00m\n",
      "File \u001b[1;32m~\\.ipython\\extensions\\lib\\site-packages\\keras\\callbacks.py:438\u001b[0m, in \u001b[0;36mCallbackList.on_train_batch_end\u001b[1;34m(self, batch, logs)\u001b[0m\n\u001b[0;32m    431\u001b[0m \u001b[38;5;124;03m\"\"\"Calls the `on_train_batch_end` methods of its callbacks.\u001b[39;00m\n\u001b[0;32m    432\u001b[0m \n\u001b[0;32m    433\u001b[0m \u001b[38;5;124;03mArgs:\u001b[39;00m\n\u001b[0;32m    434\u001b[0m \u001b[38;5;124;03m    batch: Integer, index of batch within the current epoch.\u001b[39;00m\n\u001b[0;32m    435\u001b[0m \u001b[38;5;124;03m    logs: Dict. Aggregated metric results up until this batch.\u001b[39;00m\n\u001b[0;32m    436\u001b[0m \u001b[38;5;124;03m\"\"\"\u001b[39;00m\n\u001b[0;32m    437\u001b[0m \u001b[38;5;28;01mif\u001b[39;00m \u001b[38;5;28mself\u001b[39m\u001b[38;5;241m.\u001b[39m_should_call_train_batch_hooks:\n\u001b[1;32m--> 438\u001b[0m   \u001b[38;5;28;43mself\u001b[39;49m\u001b[38;5;241;43m.\u001b[39;49m\u001b[43m_call_batch_hook\u001b[49m\u001b[43m(\u001b[49m\u001b[43mModeKeys\u001b[49m\u001b[38;5;241;43m.\u001b[39;49m\u001b[43mTRAIN\u001b[49m\u001b[43m,\u001b[49m\u001b[43m \u001b[49m\u001b[38;5;124;43m'\u001b[39;49m\u001b[38;5;124;43mend\u001b[39;49m\u001b[38;5;124;43m'\u001b[39;49m\u001b[43m,\u001b[49m\u001b[43m \u001b[49m\u001b[43mbatch\u001b[49m\u001b[43m,\u001b[49m\u001b[43m \u001b[49m\u001b[43mlogs\u001b[49m\u001b[38;5;241;43m=\u001b[39;49m\u001b[43mlogs\u001b[49m\u001b[43m)\u001b[49m\n",
      "File \u001b[1;32m~\\.ipython\\extensions\\lib\\site-packages\\keras\\callbacks.py:297\u001b[0m, in \u001b[0;36mCallbackList._call_batch_hook\u001b[1;34m(self, mode, hook, batch, logs)\u001b[0m\n\u001b[0;32m    295\u001b[0m   \u001b[38;5;28mself\u001b[39m\u001b[38;5;241m.\u001b[39m_call_batch_begin_hook(mode, batch, logs)\n\u001b[0;32m    296\u001b[0m \u001b[38;5;28;01melif\u001b[39;00m hook \u001b[38;5;241m==\u001b[39m \u001b[38;5;124m'\u001b[39m\u001b[38;5;124mend\u001b[39m\u001b[38;5;124m'\u001b[39m:\n\u001b[1;32m--> 297\u001b[0m   \u001b[38;5;28;43mself\u001b[39;49m\u001b[38;5;241;43m.\u001b[39;49m\u001b[43m_call_batch_end_hook\u001b[49m\u001b[43m(\u001b[49m\u001b[43mmode\u001b[49m\u001b[43m,\u001b[49m\u001b[43m \u001b[49m\u001b[43mbatch\u001b[49m\u001b[43m,\u001b[49m\u001b[43m \u001b[49m\u001b[43mlogs\u001b[49m\u001b[43m)\u001b[49m\n\u001b[0;32m    298\u001b[0m \u001b[38;5;28;01melse\u001b[39;00m:\n\u001b[0;32m    299\u001b[0m   \u001b[38;5;28;01mraise\u001b[39;00m \u001b[38;5;167;01mValueError\u001b[39;00m(\n\u001b[0;32m    300\u001b[0m       \u001b[38;5;124mf\u001b[39m\u001b[38;5;124m'\u001b[39m\u001b[38;5;124mUnrecognized hook: \u001b[39m\u001b[38;5;132;01m{\u001b[39;00mhook\u001b[38;5;132;01m}\u001b[39;00m\u001b[38;5;124m. Expected values are [\u001b[39m\u001b[38;5;124m\"\u001b[39m\u001b[38;5;124mbegin\u001b[39m\u001b[38;5;124m\"\u001b[39m\u001b[38;5;124m, \u001b[39m\u001b[38;5;124m\"\u001b[39m\u001b[38;5;124mend\u001b[39m\u001b[38;5;124m\"\u001b[39m\u001b[38;5;124m]\u001b[39m\u001b[38;5;124m'\u001b[39m)\n",
      "File \u001b[1;32m~\\.ipython\\extensions\\lib\\site-packages\\keras\\callbacks.py:318\u001b[0m, in \u001b[0;36mCallbackList._call_batch_end_hook\u001b[1;34m(self, mode, batch, logs)\u001b[0m\n\u001b[0;32m    315\u001b[0m   batch_time \u001b[38;5;241m=\u001b[39m time\u001b[38;5;241m.\u001b[39mtime() \u001b[38;5;241m-\u001b[39m \u001b[38;5;28mself\u001b[39m\u001b[38;5;241m.\u001b[39m_batch_start_time\n\u001b[0;32m    316\u001b[0m   \u001b[38;5;28mself\u001b[39m\u001b[38;5;241m.\u001b[39m_batch_times\u001b[38;5;241m.\u001b[39mappend(batch_time)\n\u001b[1;32m--> 318\u001b[0m \u001b[38;5;28;43mself\u001b[39;49m\u001b[38;5;241;43m.\u001b[39;49m\u001b[43m_call_batch_hook_helper\u001b[49m\u001b[43m(\u001b[49m\u001b[43mhook_name\u001b[49m\u001b[43m,\u001b[49m\u001b[43m \u001b[49m\u001b[43mbatch\u001b[49m\u001b[43m,\u001b[49m\u001b[43m \u001b[49m\u001b[43mlogs\u001b[49m\u001b[43m)\u001b[49m\n\u001b[0;32m    320\u001b[0m \u001b[38;5;28;01mif\u001b[39;00m \u001b[38;5;28mlen\u001b[39m(\u001b[38;5;28mself\u001b[39m\u001b[38;5;241m.\u001b[39m_batch_times) \u001b[38;5;241m>\u001b[39m\u001b[38;5;241m=\u001b[39m \u001b[38;5;28mself\u001b[39m\u001b[38;5;241m.\u001b[39m_num_batches_for_timing_check:\n\u001b[0;32m    321\u001b[0m   end_hook_name \u001b[38;5;241m=\u001b[39m hook_name\n",
      "File \u001b[1;32m~\\.ipython\\extensions\\lib\\site-packages\\keras\\callbacks.py:356\u001b[0m, in \u001b[0;36mCallbackList._call_batch_hook_helper\u001b[1;34m(self, hook_name, batch, logs)\u001b[0m\n\u001b[0;32m    354\u001b[0m \u001b[38;5;28;01mfor\u001b[39;00m callback \u001b[38;5;129;01min\u001b[39;00m \u001b[38;5;28mself\u001b[39m\u001b[38;5;241m.\u001b[39mcallbacks:\n\u001b[0;32m    355\u001b[0m   hook \u001b[38;5;241m=\u001b[39m \u001b[38;5;28mgetattr\u001b[39m(callback, hook_name)\n\u001b[1;32m--> 356\u001b[0m   \u001b[43mhook\u001b[49m\u001b[43m(\u001b[49m\u001b[43mbatch\u001b[49m\u001b[43m,\u001b[49m\u001b[43m \u001b[49m\u001b[43mlogs\u001b[49m\u001b[43m)\u001b[49m\n\u001b[0;32m    358\u001b[0m \u001b[38;5;28;01mif\u001b[39;00m \u001b[38;5;28mself\u001b[39m\u001b[38;5;241m.\u001b[39m_check_timing:\n\u001b[0;32m    359\u001b[0m   \u001b[38;5;28;01mif\u001b[39;00m hook_name \u001b[38;5;129;01mnot\u001b[39;00m \u001b[38;5;129;01min\u001b[39;00m \u001b[38;5;28mself\u001b[39m\u001b[38;5;241m.\u001b[39m_hook_times:\n",
      "File \u001b[1;32m~\\.ipython\\extensions\\lib\\site-packages\\keras\\callbacks.py:1034\u001b[0m, in \u001b[0;36mProgbarLogger.on_train_batch_end\u001b[1;34m(self, batch, logs)\u001b[0m\n\u001b[0;32m   1033\u001b[0m \u001b[38;5;28;01mdef\u001b[39;00m \u001b[38;5;21mon_train_batch_end\u001b[39m(\u001b[38;5;28mself\u001b[39m, batch, logs\u001b[38;5;241m=\u001b[39m\u001b[38;5;28;01mNone\u001b[39;00m):\n\u001b[1;32m-> 1034\u001b[0m   \u001b[38;5;28;43mself\u001b[39;49m\u001b[38;5;241;43m.\u001b[39;49m\u001b[43m_batch_update_progbar\u001b[49m\u001b[43m(\u001b[49m\u001b[43mbatch\u001b[49m\u001b[43m,\u001b[49m\u001b[43m \u001b[49m\u001b[43mlogs\u001b[49m\u001b[43m)\u001b[49m\n",
      "File \u001b[1;32m~\\.ipython\\extensions\\lib\\site-packages\\keras\\callbacks.py:1107\u001b[0m, in \u001b[0;36mProgbarLogger._batch_update_progbar\u001b[1;34m(self, batch, logs)\u001b[0m\n\u001b[0;32m   1104\u001b[0m \u001b[38;5;28;01mif\u001b[39;00m \u001b[38;5;28mself\u001b[39m\u001b[38;5;241m.\u001b[39mverbose \u001b[38;5;241m==\u001b[39m \u001b[38;5;241m1\u001b[39m:\n\u001b[0;32m   1105\u001b[0m   \u001b[38;5;66;03m# Only block async when verbose = 1.\u001b[39;00m\n\u001b[0;32m   1106\u001b[0m   logs \u001b[38;5;241m=\u001b[39m tf_utils\u001b[38;5;241m.\u001b[39msync_to_numpy_or_python_type(logs)\n\u001b[1;32m-> 1107\u001b[0m   \u001b[38;5;28;43mself\u001b[39;49m\u001b[38;5;241;43m.\u001b[39;49m\u001b[43mprogbar\u001b[49m\u001b[38;5;241;43m.\u001b[39;49m\u001b[43mupdate\u001b[49m\u001b[43m(\u001b[49m\u001b[38;5;28;43mself\u001b[39;49m\u001b[38;5;241;43m.\u001b[39;49m\u001b[43mseen\u001b[49m\u001b[43m,\u001b[49m\u001b[43m \u001b[49m\u001b[38;5;28;43mlist\u001b[39;49m\u001b[43m(\u001b[49m\u001b[43mlogs\u001b[49m\u001b[38;5;241;43m.\u001b[39;49m\u001b[43mitems\u001b[49m\u001b[43m(\u001b[49m\u001b[43m)\u001b[49m\u001b[43m)\u001b[49m\u001b[43m,\u001b[49m\u001b[43m \u001b[49m\u001b[43mfinalize\u001b[49m\u001b[38;5;241;43m=\u001b[39;49m\u001b[38;5;28;43;01mFalse\u001b[39;49;00m\u001b[43m)\u001b[49m\n",
      "File \u001b[1;32m~\\.ipython\\extensions\\lib\\site-packages\\keras\\utils\\generic_utils.py:976\u001b[0m, in \u001b[0;36mProgbar.update\u001b[1;34m(self, current, values, finalize)\u001b[0m\n\u001b[0;32m    973\u001b[0m     info \u001b[38;5;241m+\u001b[39m\u001b[38;5;241m=\u001b[39m \u001b[38;5;124m'\u001b[39m\u001b[38;5;130;01m\\n\u001b[39;00m\u001b[38;5;124m'\u001b[39m\n\u001b[0;32m    975\u001b[0m   message \u001b[38;5;241m+\u001b[39m\u001b[38;5;241m=\u001b[39m info\n\u001b[1;32m--> 976\u001b[0m   \u001b[43mio_utils\u001b[49m\u001b[38;5;241;43m.\u001b[39;49m\u001b[43mprint_msg\u001b[49m\u001b[43m(\u001b[49m\u001b[43mmessage\u001b[49m\u001b[43m,\u001b[49m\u001b[43m \u001b[49m\u001b[43mline_break\u001b[49m\u001b[38;5;241;43m=\u001b[39;49m\u001b[38;5;28;43;01mFalse\u001b[39;49;00m\u001b[43m)\u001b[49m\n\u001b[0;32m    977\u001b[0m   message \u001b[38;5;241m=\u001b[39m \u001b[38;5;124m'\u001b[39m\u001b[38;5;124m'\u001b[39m\n\u001b[0;32m    979\u001b[0m \u001b[38;5;28;01melif\u001b[39;00m \u001b[38;5;28mself\u001b[39m\u001b[38;5;241m.\u001b[39mverbose \u001b[38;5;241m==\u001b[39m \u001b[38;5;241m2\u001b[39m:\n",
      "File \u001b[1;32m~\\.ipython\\extensions\\lib\\site-packages\\keras\\utils\\io_utils.py:77\u001b[0m, in \u001b[0;36mprint_msg\u001b[1;34m(message, line_break)\u001b[0m\n\u001b[0;32m     75\u001b[0m     sys\u001b[38;5;241m.\u001b[39mstdout\u001b[38;5;241m.\u001b[39mwrite(message \u001b[38;5;241m+\u001b[39m \u001b[38;5;124m'\u001b[39m\u001b[38;5;130;01m\\n\u001b[39;00m\u001b[38;5;124m'\u001b[39m)\n\u001b[0;32m     76\u001b[0m   \u001b[38;5;28;01melse\u001b[39;00m:\n\u001b[1;32m---> 77\u001b[0m     \u001b[43msys\u001b[49m\u001b[38;5;241;43m.\u001b[39;49m\u001b[43mstdout\u001b[49m\u001b[38;5;241;43m.\u001b[39;49m\u001b[43mwrite\u001b[49m\u001b[43m(\u001b[49m\u001b[43mmessage\u001b[49m\u001b[43m)\u001b[49m\n\u001b[0;32m     78\u001b[0m   sys\u001b[38;5;241m.\u001b[39mstdout\u001b[38;5;241m.\u001b[39mflush()\n\u001b[0;32m     79\u001b[0m \u001b[38;5;28;01melse\u001b[39;00m:\n",
      "File \u001b[1;32m~\\.ipython\\extensions\\lib\\site-packages\\ipykernel\\iostream.py:555\u001b[0m, in \u001b[0;36mOutStream.write\u001b[1;34m(self, string)\u001b[0m\n\u001b[0;32m    553\u001b[0m         \u001b[38;5;28mself\u001b[39m\u001b[38;5;241m.\u001b[39mpub_thread\u001b[38;5;241m.\u001b[39mschedule(\u001b[38;5;28mself\u001b[39m\u001b[38;5;241m.\u001b[39m_flush)\n\u001b[0;32m    554\u001b[0m     \u001b[38;5;28;01melse\u001b[39;00m:\n\u001b[1;32m--> 555\u001b[0m         \u001b[38;5;28;43mself\u001b[39;49m\u001b[38;5;241;43m.\u001b[39;49m\u001b[43m_schedule_flush\u001b[49m\u001b[43m(\u001b[49m\u001b[43m)\u001b[49m\n\u001b[0;32m    557\u001b[0m \u001b[38;5;28;01mreturn\u001b[39;00m \u001b[38;5;28mlen\u001b[39m(string)\n",
      "File \u001b[1;32m~\\.ipython\\extensions\\lib\\site-packages\\ipykernel\\iostream.py:461\u001b[0m, in \u001b[0;36mOutStream._schedule_flush\u001b[1;34m(self)\u001b[0m\n\u001b[0;32m    458\u001b[0m \u001b[38;5;28;01mdef\u001b[39;00m \u001b[38;5;21m_schedule_in_thread\u001b[39m():\n\u001b[0;32m    459\u001b[0m     \u001b[38;5;28mself\u001b[39m\u001b[38;5;241m.\u001b[39m_io_loop\u001b[38;5;241m.\u001b[39mcall_later(\u001b[38;5;28mself\u001b[39m\u001b[38;5;241m.\u001b[39mflush_interval, \u001b[38;5;28mself\u001b[39m\u001b[38;5;241m.\u001b[39m_flush)\n\u001b[1;32m--> 461\u001b[0m \u001b[38;5;28;43mself\u001b[39;49m\u001b[38;5;241;43m.\u001b[39;49m\u001b[43mpub_thread\u001b[49m\u001b[38;5;241;43m.\u001b[39;49m\u001b[43mschedule\u001b[49m\u001b[43m(\u001b[49m\u001b[43m_schedule_in_thread\u001b[49m\u001b[43m)\u001b[49m\n",
      "File \u001b[1;32m~\\.ipython\\extensions\\lib\\site-packages\\ipykernel\\iostream.py:210\u001b[0m, in \u001b[0;36mIOPubThread.schedule\u001b[1;34m(self, f)\u001b[0m\n\u001b[0;32m    208\u001b[0m     \u001b[38;5;28mself\u001b[39m\u001b[38;5;241m.\u001b[39m_events\u001b[38;5;241m.\u001b[39mappend(f)\n\u001b[0;32m    209\u001b[0m     \u001b[38;5;66;03m# wake event thread (message content is ignored)\u001b[39;00m\n\u001b[1;32m--> 210\u001b[0m     \u001b[38;5;28;43mself\u001b[39;49m\u001b[38;5;241;43m.\u001b[39;49m\u001b[43m_event_pipe\u001b[49m\u001b[38;5;241;43m.\u001b[39;49m\u001b[43msend\u001b[49m\u001b[43m(\u001b[49m\u001b[38;5;124;43mb\u001b[39;49m\u001b[38;5;124;43m\"\u001b[39;49m\u001b[38;5;124;43m\"\u001b[39;49m\u001b[43m)\u001b[49m\n\u001b[0;32m    211\u001b[0m \u001b[38;5;28;01melse\u001b[39;00m:\n\u001b[0;32m    212\u001b[0m     f()\n",
      "File \u001b[1;32m~\\.ipython\\extensions\\lib\\site-packages\\zmq\\sugar\\socket.py:618\u001b[0m, in \u001b[0;36mSocket.send\u001b[1;34m(self, data, flags, copy, track, routing_id, group)\u001b[0m\n\u001b[0;32m    611\u001b[0m         data \u001b[38;5;241m=\u001b[39m zmq\u001b[38;5;241m.\u001b[39mFrame(\n\u001b[0;32m    612\u001b[0m             data,\n\u001b[0;32m    613\u001b[0m             track\u001b[38;5;241m=\u001b[39mtrack,\n\u001b[0;32m    614\u001b[0m             copy\u001b[38;5;241m=\u001b[39mcopy \u001b[38;5;129;01mor\u001b[39;00m \u001b[38;5;28;01mNone\u001b[39;00m,\n\u001b[0;32m    615\u001b[0m             copy_threshold\u001b[38;5;241m=\u001b[39m\u001b[38;5;28mself\u001b[39m\u001b[38;5;241m.\u001b[39mcopy_threshold,\n\u001b[0;32m    616\u001b[0m         )\n\u001b[0;32m    617\u001b[0m     data\u001b[38;5;241m.\u001b[39mgroup \u001b[38;5;241m=\u001b[39m group\n\u001b[1;32m--> 618\u001b[0m \u001b[38;5;28;01mreturn\u001b[39;00m \u001b[38;5;28;43msuper\u001b[39;49m\u001b[43m(\u001b[49m\u001b[43m)\u001b[49m\u001b[38;5;241;43m.\u001b[39;49m\u001b[43msend\u001b[49m\u001b[43m(\u001b[49m\u001b[43mdata\u001b[49m\u001b[43m,\u001b[49m\u001b[43m \u001b[49m\u001b[43mflags\u001b[49m\u001b[38;5;241;43m=\u001b[39;49m\u001b[43mflags\u001b[49m\u001b[43m,\u001b[49m\u001b[43m \u001b[49m\u001b[43mcopy\u001b[49m\u001b[38;5;241;43m=\u001b[39;49m\u001b[43mcopy\u001b[49m\u001b[43m,\u001b[49m\u001b[43m \u001b[49m\u001b[43mtrack\u001b[49m\u001b[38;5;241;43m=\u001b[39;49m\u001b[43mtrack\u001b[49m\u001b[43m)\u001b[49m\n",
      "File \u001b[1;32mzmq\\backend\\cython\\socket.pyx:740\u001b[0m, in \u001b[0;36mzmq.backend.cython.socket.Socket.send\u001b[1;34m()\u001b[0m\n",
      "File \u001b[1;32mzmq\\backend\\cython\\socket.pyx:787\u001b[0m, in \u001b[0;36mzmq.backend.cython.socket.Socket.send\u001b[1;34m()\u001b[0m\n",
      "File \u001b[1;32mzmq\\backend\\cython\\socket.pyx:244\u001b[0m, in \u001b[0;36mzmq.backend.cython.socket._send_copy\u001b[1;34m()\u001b[0m\n",
      "File \u001b[1;32m~\\.ipython\\extensions\\lib\\site-packages\\zmq\\backend\\cython\\checkrc.pxd:13\u001b[0m, in \u001b[0;36mzmq.backend.cython.checkrc._check_rc\u001b[1;34m()\u001b[0m\n",
      "\u001b[1;31mKeyboardInterrupt\u001b[0m: "
     ]
    }
   ],
   "source": [
    "model_history = classifier.fit(x_train,y_train,validation_split=0.33, batch_size=10, epochs=1000)"
   ]
  },
  {
   "cell_type": "code",
   "execution_count": null,
   "id": "18a17a91",
   "metadata": {},
   "outputs": [],
   "source": [
    "#we can do ealry stopping when the model accuracy not at all is increasing like in above situation"
   ]
  },
  {
   "cell_type": "code",
   "execution_count": 45,
   "id": "7a3c014f",
   "metadata": {},
   "outputs": [],
   "source": [
    "#early_stopping\n",
    "import tensorflow as tf\n",
    "early_stopping = tf.keras.callbacks.EarlyStopping(\n",
    "    monitor=\"val_loss\",\n",
    "    min_delta=0.001,\n",
    "    patience=20,\n",
    "    verbose=1, \n",
    "    mode=\"auto\",\n",
    "    baseline=None,\n",
    "    restore_best_weights=False,\n",
    "   \n",
    ")"
   ]
  },
  {
   "cell_type": "code",
   "execution_count": 46,
   "id": "b71fdd22",
   "metadata": {},
   "outputs": [
    {
     "name": "stdout",
     "output_type": "stream",
     "text": [
      "Epoch 1/1000\n",
      "536/536 [==============================] - 4s 8ms/step - loss: 0.3200 - accuracy: 0.8673 - val_loss: 0.3586 - val_accuracy: 0.8591\n",
      "Epoch 2/1000\n",
      "536/536 [==============================] - 4s 7ms/step - loss: 0.3205 - accuracy: 0.8655 - val_loss: 0.3600 - val_accuracy: 0.8588\n",
      "Epoch 3/1000\n",
      "536/536 [==============================] - 4s 7ms/step - loss: 0.3202 - accuracy: 0.8673 - val_loss: 0.3617 - val_accuracy: 0.8565\n",
      "Epoch 4/1000\n",
      "536/536 [==============================] - 4s 7ms/step - loss: 0.3208 - accuracy: 0.8653 - val_loss: 0.3583 - val_accuracy: 0.8588\n",
      "Epoch 5/1000\n",
      "536/536 [==============================] - 4s 7ms/step - loss: 0.3199 - accuracy: 0.8671 - val_loss: 0.3569 - val_accuracy: 0.8588\n",
      "Epoch 6/1000\n",
      "536/536 [==============================] - 4s 7ms/step - loss: 0.3187 - accuracy: 0.8690 - val_loss: 0.3611 - val_accuracy: 0.8580\n",
      "Epoch 7/1000\n",
      "536/536 [==============================] - 4s 7ms/step - loss: 0.3189 - accuracy: 0.8681 - val_loss: 0.3612 - val_accuracy: 0.8569\n",
      "Epoch 8/1000\n",
      "536/536 [==============================] - 3s 6ms/step - loss: 0.3189 - accuracy: 0.8686 - val_loss: 0.3581 - val_accuracy: 0.8603\n",
      "Epoch 9/1000\n",
      "536/536 [==============================] - 4s 7ms/step - loss: 0.3194 - accuracy: 0.8679 - val_loss: 0.3590 - val_accuracy: 0.8584\n",
      "Epoch 10/1000\n",
      "536/536 [==============================] - 5s 8ms/step - loss: 0.3191 - accuracy: 0.8632 - val_loss: 0.3599 - val_accuracy: 0.8607\n",
      "Epoch 11/1000\n",
      "536/536 [==============================] - 4s 7ms/step - loss: 0.3186 - accuracy: 0.8671 - val_loss: 0.3607 - val_accuracy: 0.8569\n",
      "Epoch 12/1000\n",
      "536/536 [==============================] - 4s 8ms/step - loss: 0.3187 - accuracy: 0.8683 - val_loss: 0.3605 - val_accuracy: 0.8595\n",
      "Epoch 13/1000\n",
      "536/536 [==============================] - 5s 9ms/step - loss: 0.3182 - accuracy: 0.8690 - val_loss: 0.3585 - val_accuracy: 0.8610\n",
      "Epoch 14/1000\n",
      "536/536 [==============================] - 5s 9ms/step - loss: 0.3188 - accuracy: 0.8683 - val_loss: 0.3582 - val_accuracy: 0.8588\n",
      "Epoch 15/1000\n",
      "536/536 [==============================] - 4s 8ms/step - loss: 0.3180 - accuracy: 0.8675 - val_loss: 0.3630 - val_accuracy: 0.8535\n",
      "Epoch 16/1000\n",
      "536/536 [==============================] - 5s 9ms/step - loss: 0.3169 - accuracy: 0.8683 - val_loss: 0.3593 - val_accuracy: 0.8573\n",
      "Epoch 17/1000\n",
      "536/536 [==============================] - 4s 8ms/step - loss: 0.3185 - accuracy: 0.8664 - val_loss: 0.3591 - val_accuracy: 0.8591\n",
      "Epoch 18/1000\n",
      "536/536 [==============================] - 4s 8ms/step - loss: 0.3168 - accuracy: 0.8707 - val_loss: 0.3606 - val_accuracy: 0.8573\n",
      "Epoch 19/1000\n",
      "536/536 [==============================] - 4s 8ms/step - loss: 0.3179 - accuracy: 0.8679 - val_loss: 0.3583 - val_accuracy: 0.8588\n",
      "Epoch 20/1000\n",
      "536/536 [==============================] - 4s 8ms/step - loss: 0.3168 - accuracy: 0.8701 - val_loss: 0.3605 - val_accuracy: 0.8595\n",
      "Epoch 21/1000\n",
      "536/536 [==============================] - 4s 8ms/step - loss: 0.3164 - accuracy: 0.8698 - val_loss: 0.3636 - val_accuracy: 0.8554\n",
      "Epoch 22/1000\n",
      "536/536 [==============================] - 5s 9ms/step - loss: 0.3178 - accuracy: 0.8688 - val_loss: 0.3614 - val_accuracy: 0.8580\n",
      "Epoch 23/1000\n",
      "536/536 [==============================] - 4s 8ms/step - loss: 0.3167 - accuracy: 0.8698 - val_loss: 0.3614 - val_accuracy: 0.8610\n",
      "Epoch 24/1000\n",
      "536/536 [==============================] - 4s 8ms/step - loss: 0.3174 - accuracy: 0.8679 - val_loss: 0.3623 - val_accuracy: 0.8557\n",
      "Epoch 25/1000\n",
      "536/536 [==============================] - 5s 10ms/step - loss: 0.3160 - accuracy: 0.8716 - val_loss: 0.3674 - val_accuracy: 0.8516\n",
      "Epoch 25: early stopping\n"
     ]
    }
   ],
   "source": [
    "model_history = classifier.fit(x_train,y_train,validation_split=0.33, batch_size=10, epochs=1000, callbacks=early_stopping) #now callbacks calls fo early stopping"
   ]
  },
  {
   "cell_type": "code",
   "execution_count": 47,
   "id": "aa30d6c5",
   "metadata": {},
   "outputs": [
    {
     "data": {
      "text/plain": [
       "dict_keys(['loss', 'accuracy', 'val_loss', 'val_accuracy'])"
      ]
     },
     "execution_count": 47,
     "metadata": {},
     "output_type": "execute_result"
    }
   ],
   "source": [
    "model_history.history.keys()"
   ]
  },
  {
   "cell_type": "code",
   "execution_count": 52,
   "id": "067117b8",
   "metadata": {},
   "outputs": [
    {
     "data": {
      "image/png": "[encoded data removed]",
      "text/plain": [
       "<Figure size 640x480 with 1 Axes>"
      ]
     },
     "metadata": {},
     "output_type": "display_data"
    }
   ],
   "source": [
    "#summarise the history for accuracy\n",
    "import matplotlib.pyplot as plt\n",
    "%matplotlib inline\n",
    "plt.plot(model_history.history['accuracy'])\n",
    "plt.plot(model_history.history['val_accuracy'])\n",
    "plt.title('model_history')\n",
    "plt.ylabel('accuracy')\n",
    "plt.xlabel('epoch')\n",
    "plt.legend(['Train','Test'], loc='lower right')\n",
    "plt.show()"
   ]
  },
  {
   "cell_type": "code",
   "execution_count": 53,
   "id": "1fdec1f3",
   "metadata": {},
   "outputs": [
    {
     "data": {
      "image/png": "[encoded data removed]",
      "text/plain": [
       "<Figure size 640x480 with 1 Axes>"
      ]
     },
     "metadata": {},
     "output_type": "display_data"
    }
   ],
   "source": [
    "plt.plot(model_history.history['loss'])\n",
    "plt.plot(model_history.history['val_loss'])\n",
    "plt.title('model_history')\n",
    "plt.ylabel('loss')\n",
    "plt.xlabel('epoch')\n",
    "plt.legend(['Train','Test'], loc='lower right')\n",
    "plt.show()"
   ]
  },
  {
   "cell_type": "markdown",
   "id": "78b9a2a2",
   "metadata": {},
   "source": [
    "### Part3: Making the predictions and evaluating the model"
   ]
  },
  {
   "cell_type": "code",
   "execution_count": 54,
   "id": "bacce880",
   "metadata": {},
   "outputs": [
    {
     "name": "stdout",
     "output_type": "stream",
     "text": [
      "63/63 [==============================] - 1s 5ms/step\n"
     ]
    }
   ],
   "source": [
    "#next step is pedicting using test data\n",
    "y_pred = classifier.predict(x_test)\n",
    "y_pred = (y_pred>=0.5)"
   ]
  },
  {
   "cell_type": "code",
   "execution_count": 55,
   "id": "31da307a",
   "metadata": {},
   "outputs": [
    {
     "data": {
      "text/plain": [
       "array([[1466,  129],\n",
       "       [ 175,  230]], dtype=int64)"
      ]
     },
     "execution_count": 55,
     "metadata": {},
     "output_type": "execute_result"
    }
   ],
   "source": [
    "#now we have to make the confusion matrix\n",
    "from sklearn.metrics import confusion_matrix\n",
    "cm = confusion_matrix(y_test, y_pred)\n",
    "cm"
   ]
  },
  {
   "cell_type": "code",
   "execution_count": 57,
   "id": "cc223215",
   "metadata": {},
   "outputs": [
    {
     "data": {
      "text/plain": [
       "0.848"
      ]
     },
     "execution_count": 57,
     "metadata": {},
     "output_type": "execute_result"
    }
   ],
   "source": [
    "#calcualte the accuracy\n",
    "from sklearn.metrics import accuracy_score\n",
    "score = accuracy_score(y_test, y_pred)\n",
    "score"
   ]
  },
  {
   "cell_type": "code",
   "execution_count": 59,
   "id": "1e9610e3",
   "metadata": {},
   "outputs": [
    {
     "data": {
      "text/plain": [
       "[array([[ 5.38485125e-02,  2.60620475e-01, -6.99439719e-02,\n",
       "          2.62931943e-01, -4.16088151e-03, -1.38133578e-02,\n",
       "          8.69309232e-02, -1.01955072e-03, -4.38524596e-02,\n",
       "          9.27476883e-02, -2.84527481e-01],\n",
       "        [-4.53197956e-01,  9.07277465e-02,  8.93171430e-01,\n",
       "         -7.66640365e-01, -7.39417598e-02,  3.04432809e-01,\n",
       "          6.82178140e-03,  6.61808670e-01,  9.40910876e-01,\n",
       "          3.02872956e-01, -4.67964202e-01],\n",
       "        [ 3.27793583e-02,  3.79180193e-01,  4.43954915e-02,\n",
       "         -6.80159181e-02, -1.76436938e-02,  1.81880072e-01,\n",
       "         -5.38062677e-02, -3.17687005e-01, -2.60482244e-02,\n",
       "          5.74660748e-02,  2.79383156e-02],\n",
       "        [ 6.09511197e-01, -7.25296676e-01,  1.30777866e-01,\n",
       "         -3.69838774e-01, -7.96017945e-01, -7.05579400e-01,\n",
       "         -4.08878118e-01,  6.99479580e-01, -1.52698815e-01,\n",
       "          5.05879343e-01, -4.18154091e-01],\n",
       "        [-3.59565854e-01,  3.55056627e-03, -5.62283695e-02,\n",
       "          3.57973009e-01, -4.73534346e-01, -1.16072524e+00,\n",
       "          9.88017023e-01, -6.03133738e-01,  8.40722620e-01,\n",
       "          1.05481744e+00, -4.48551178e-02],\n",
       "        [-1.05343200e-01, -4.81907725e-02,  4.96708542e-01,\n",
       "         -1.18231811e-01,  8.86452571e-02, -9.84271541e-02,\n",
       "         -1.12056606e-01, -1.78091705e-01, -1.42916352e-01,\n",
       "         -1.33818612e-01, -1.01995982e-01],\n",
       "        [-3.69334400e-01,  5.66784501e-01,  1.99779928e-01,\n",
       "          5.58054633e-03, -7.19880044e-01, -1.99648693e-01,\n",
       "         -5.54664135e-01, -2.85924733e-01,  2.53472179e-01,\n",
       "         -5.20601273e-01, -2.16955453e-01],\n",
       "        [-2.84860656e-02, -2.31787845e-01, -3.75031531e-02,\n",
       "          1.33300470e-02, -1.66240454e-01,  8.38648304e-02,\n",
       "          8.29350296e-03, -1.15911081e-01, -9.99405682e-02,\n",
       "         -2.01507777e-01, -8.94991122e-03],\n",
       "        [ 2.52704471e-01, -6.32418454e-01,  2.97957867e-01,\n",
       "         -1.34797633e-01, -9.12097275e-01,  2.92149663e-01,\n",
       "         -2.07807478e-02, -8.06956589e-02, -1.28863543e-01,\n",
       "         -1.51497066e-01, -4.52837557e-01],\n",
       "        [-1.10516474e-01,  3.74444902e-01, -4.22682017e-01,\n",
       "         -3.72468680e-01,  1.04745694e-01,  1.00294769e-01,\n",
       "         -1.10164650e-01,  2.15010822e-01,  6.39673948e-01,\n",
       "          3.32425594e-01, -2.71246098e-02],\n",
       "        [ 1.25672575e-02,  3.09637427e-01,  3.91768366e-01,\n",
       "          4.26423788e-01, -2.05566540e-01,  7.59783313e-02,\n",
       "         -5.47712371e-02, -9.44599658e-02,  1.02917016e-01,\n",
       "          3.82240489e-02,  7.39646673e-01]], dtype=float32),\n",
       " array([ 0.71475714,  0.47735354,  0.24380043,  0.3805419 ,  0.2392799 ,\n",
       "        -0.00730384,  0.7248504 ,  0.05332261, -0.23652595,  0.1828336 ,\n",
       "         0.16115662], dtype=float32),\n",
       " array([[-0.58892804,  0.4051116 ,  0.4778792 ,  0.39985898,  0.4219624 ,\n",
       "         -0.19794631, -0.20920072],\n",
       "        [ 0.1902821 ,  0.1864575 ,  0.38222417, -1.1299758 ,  0.4876504 ,\n",
       "          0.3671498 , -0.3928171 ],\n",
       "        [ 0.30037105,  0.09399752, -0.6394287 ,  0.09215739,  0.85496485,\n",
       "          0.2622872 , -0.01129415],\n",
       "        [-0.28590277, -0.34286436, -0.08459906, -0.05513292,  0.2926319 ,\n",
       "          0.19047463,  0.01429163],\n",
       "        [-0.12817845,  0.706191  ,  0.5000326 , -0.38861373, -0.48869622,\n",
       "         -0.09835293, -0.7817771 ],\n",
       "        [ 0.31889185,  0.6655747 , -0.6811444 ,  0.03769266, -0.17960618,\n",
       "          0.36859313, -1.1094271 ],\n",
       "        [ 0.5110476 ,  0.2918295 ,  0.14563276, -0.95461494,  0.5410395 ,\n",
       "          0.62828135,  0.44852695],\n",
       "        [ 0.578604  , -0.13770227, -0.1783973 ,  0.557561  ,  0.06253946,\n",
       "          0.03744821, -0.4502017 ],\n",
       "        [-0.6063003 , -0.51883805, -0.6192957 , -1.0268961 ,  0.45076898,\n",
       "          0.33889988,  0.35605508],\n",
       "        [ 0.0748192 ,  0.41618404,  0.29995736, -0.06990696, -0.5241188 ,\n",
       "          0.5406042 ,  0.3665305 ],\n",
       "        [-0.5963816 , -0.07744471,  0.2920249 , -0.5295434 , -0.3426791 ,\n",
       "          0.48143128, -0.31432185]], dtype=float32),\n",
       " array([-0.05305433, -0.07963917,  0.59192115, -0.17623994,  0.4812642 ,\n",
       "         0.30851227, -0.18964002], dtype=float32),\n",
       " array([[ 0.01352067, -1.198122  , -0.3766524 ,  0.2515254 , -0.2476677 ,\n",
       "          0.37613797],\n",
       "        [ 0.16987376, -0.7315848 , -0.28958178, -0.02581559, -0.12505111,\n",
       "          0.5927579 ],\n",
       "        [ 0.13633208, -0.09058224,  0.07290253, -1.547317  ,  0.38800973,\n",
       "         -0.78107834],\n",
       "        [-0.05644606,  0.59840477,  0.02799031,  0.3454918 , -0.79528576,\n",
       "          0.9029743 ],\n",
       "        [ 0.60911846,  0.26658043, -0.57226515, -0.78686565,  0.6193719 ,\n",
       "          0.08806154],\n",
       "        [ 0.24289456,  0.13914858,  0.18414557,  0.6990903 ,  0.29922548,\n",
       "          0.32565215],\n",
       "        [-0.17323898, -0.40821892,  0.05614053,  0.48785892, -0.8242893 ,\n",
       "          0.8975563 ]], dtype=float32),\n",
       " array([ 0.32847908,  0.01375212, -0.14604768,  0.07687703,  0.44443893,\n",
       "        -0.04953439], dtype=float32),\n",
       " array([[-0.3713124],\n",
       "        [-0.7924563],\n",
       "        [-1.0206591],\n",
       "        [ 1.0679691],\n",
       "        [-0.8121393],\n",
       "        [ 1.1169854]], dtype=float32),\n",
       " array([-0.3292643], dtype=float32)]"
      ]
     },
     "execution_count": 59,
     "metadata": {},
     "output_type": "execute_result"
    }
   ],
   "source": [
    "#where can we see the weights\n",
    "classifier.get_weights()"
   ]
  },
  {
   "cell_type": "code",
   "execution_count": null,
   "id": "a9058c4e",
   "metadata": {},
   "outputs": [],
   "source": [
    "#we can save the model using pickling"
   ]
  }
 ],
 "metadata": {
  "kernelspec": {
   "display_name": "Python 3 (ipykernel)",
   "language": "python",
   "name": "python3"
  },
  "language_info": {
   "codemirror_mode": {
    "name": "ipython",
    "version": 3
   },
   "file_extension": ".py",
   "mimetype": "text/x-python",
   "name": "python",
   "nbconvert_exporter": "python",
   "pygments_lexer": "ipython3",
   "version": "3.9.12"
  }
 },
 "nbformat": 4,
 "nbformat_minor": 5
}
